{
 "cells": [
  {
   "cell_type": "code",
   "execution_count": 1,
   "id": "f9ea8ec0-7f4f-4295-9d7b-d83219804332",
   "metadata": {},
   "outputs": [
    {
     "name": "stdin",
     "output_type": "stream",
     "text": [
      "enter the your percentage 67\n"
     ]
    },
    {
     "name": "stdout",
     "output_type": "stream",
     "text": [
      "GRADE 'C'\n"
     ]
    }
   ],
   "source": [
    "# ANS 1 :\n",
    "\n",
    "marks = int(input(\"enter the your percentage\"))\n",
    "if marks > 90:\n",
    "    print(\"GRADE 'A' \")\n",
    "elif marks > 80 and marks <=90:\n",
    "    print(\"GRADE 'B'\")\n",
    "elif marks >= 60 and marks <= 80 :\n",
    "    print(\"GRADE 'C'\")\n",
    "else :\n",
    "    print(\"GRADE 'D'\")\n",
    "    "
   ]
  },
  {
   "cell_type": "code",
   "execution_count": 2,
   "id": "595be0ad-643d-4768-9829-afee24a0fd3c",
   "metadata": {},
   "outputs": [
    {
     "name": "stdin",
     "output_type": "stream",
     "text": [
      "enter the price  60000\n"
     ]
    },
    {
     "name": "stdout",
     "output_type": "stream",
     "text": [
      "Road tax is 10%\n"
     ]
    }
   ],
   "source": [
    "# ANS 2 :\n",
    "\n",
    "cost_price = int(input(\"enter the price \"))\n",
    "if cost_price > 100000:\n",
    "    print(\"Road tax is 15% \")\n",
    "elif cost_price > 50000 and cost_price <=100000:\n",
    "    print(\"Road tax is 10%\")\n",
    "else:\n",
    "    print(\"Road tax is 5%\")\n"
   ]
  },
  {
   "cell_type": "code",
   "execution_count": 3,
   "id": "1adad264-9177-446e-ab76-170b2d8b15e2",
   "metadata": {},
   "outputs": [
    {
     "name": "stdin",
     "output_type": "stream",
     "text": [
      "ENTER YOUR CITY NAME  Delhi\n"
     ]
    },
    {
     "name": "stdout",
     "output_type": "stream",
     "text": [
      "Monument is Red fort\n"
     ]
    }
   ],
   "source": [
    "# ANS 3 :\n",
    "\n",
    "CITY = input(\"ENTER YOUR CITY NAME \")\n",
    "if CITY == \"Delhi\" :\n",
    "    print (\"Monument is Red fort\")\n",
    "elif CITY == \"Agra\":\n",
    "    print(\"Monument is Taj Mahal\")\n",
    "elif CITY == \"Jaipur\":\n",
    "    print(\"Monument is Jai Mahal\")\n",
    "    \n"
   ]
  },
  {
   "cell_type": "code",
   "execution_count": 8,
   "id": "3b273659-82d4-45a6-8791-d1e1ffefa813",
   "metadata": {},
   "outputs": [
    {
     "name": "stdin",
     "output_type": "stream",
     "text": [
      "Enter the number  45\n"
     ]
    },
    {
     "name": "stdout",
     "output_type": "stream",
     "text": [
      "2\n"
     ]
    }
   ],
   "source": [
    "# ANS 4 :\n",
    "number = int(input(\"Enter the number \"))\n",
    "counter = 0 \n",
    "\n",
    "while  number > 10 :\n",
    "    number = number / 3\n",
    "    counter = counter + 1\n",
    "    \n",
    "    \n",
    "print(counter)        "
   ]
  },
  {
   "cell_type": "markdown",
   "id": "7f564c68-d8d4-403c-886a-6223bbcf7e93",
   "metadata": {},
   "source": [
    "# ANS 5 : \n",
    "# we use while loop , when we have to  iterate some variable with a specific condition \n",
    "# for example , in above question we have a condtion that number should not be less than 10 \n",
    "# we are allowing the loop to iterate ,  until number is less than 10\n",
    "\n",
    "number = int(input(\"Enter the number \"))\n",
    "counter = 0 \n",
    "while  number > 10 :\n",
    "      number = number / 3\n",
    "      counter = counter + 1\n",
    "print(counter)   \n"
   ]
  },
  {
   "cell_type": "code",
   "execution_count": 9,
   "id": "5accb2eb-a340-4f81-ad8b-eb3a025bf9fa",
   "metadata": {},
   "outputs": [
    {
     "name": "stdin",
     "output_type": "stream",
     "text": [
      "enter the number 10\n"
     ]
    },
    {
     "name": "stdout",
     "output_type": "stream",
     "text": [
      "10\n",
      "9\n",
      "8\n",
      "7\n",
      "6\n",
      "5\n",
      "4\n",
      "3\n",
      "2\n",
      "1\n"
     ]
    }
   ],
   "source": [
    "# ANS 7 :\n",
    "n = int(input(\"enter the number\"))\n",
    "while n > 0:\n",
    "    print(n)\n",
    "    n = n-1"
   ]
  },
  {
   "cell_type": "code",
   "execution_count": 11,
   "id": "93782667-9bd2-44a6-b5e7-4123e07c75af",
   "metadata": {},
   "outputs": [
    {
     "name": "stdin",
     "output_type": "stream",
     "text": [
      "enter the number 10\n"
     ]
    },
    {
     "name": "stdout",
     "output_type": "stream",
     "text": [
      "10\n",
      "9\n",
      "8\n",
      "7\n",
      "6\n",
      "5\n",
      "4\n",
      "3\n",
      "2\n",
      "1\n"
     ]
    }
   ],
   "source": [
    "# ANS 8 : Same question \n",
    "n = int(input(\"enter the number\"))\n",
    "while n > 0:\n",
    "    print(n)\n",
    "    n = n-1"
   ]
  },
  {
   "cell_type": "markdown",
   "id": "47bcfef7-e0dd-49f0-b8a3-710b1da17b65",
   "metadata": {},
   "source": [
    "# ANS 6 :   DOUBT IN THIS QUESTION"
   ]
  },
  {
   "cell_type": "code",
   "execution_count": null,
   "id": "59ca4f22-3ecd-48fc-9a4b-615d6bf28e78",
   "metadata": {},
   "outputs": [],
   "source": []
  }
 ],
 "metadata": {
  "kernelspec": {
   "display_name": "Python 3 (ipykernel)",
   "language": "python",
   "name": "python3"
  },
  "language_info": {
   "codemirror_mode": {
    "name": "ipython",
    "version": 3
   },
   "file_extension": ".py",
   "mimetype": "text/x-python",
   "name": "python",
   "nbconvert_exporter": "python",
   "pygments_lexer": "ipython3",
   "version": "3.10.8"
  }
 },
 "nbformat": 4,
 "nbformat_minor": 5
}
